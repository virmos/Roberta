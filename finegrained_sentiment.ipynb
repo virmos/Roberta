{
 "cells": [
  {
   "cell_type": "code",
   "execution_count": 12,
   "id": "a9f75a36",
   "metadata": {},
   "outputs": [],
   "source": [
    "import pandas as pd\n",
    "import matplotlib.pyplot as plt\n",
    "import numpy as np\n",
    "from sklearn.metrics import f1_score, accuracy_score\n",
    "import string\n",
    "import nltk\n",
    "import re\n",
    "import seaborn as sns"
   ]
  },
  {
   "cell_type": "markdown",
   "id": "e9ea445f",
   "metadata": {},
   "source": [
    "# Preprocess"
   ]
  },
  {
   "cell_type": "code",
   "execution_count": null,
   "id": "2590cb96",
   "metadata": {
    "scrolled": false
   },
   "outputs": [],
   "source": [
    "file_path = 'tiki_sentiment/preprocess_data.json'\n",
    "df = pd.read_json(file_path, orient='records')\n",
    "df = df.drop(['ttn_tieu_de', 'ttn_mieu_ta', 'url', 'domain_type'], axis=1)\n",
    "df.head(3)"
   ]
  },
  {
   "cell_type": "code",
   "execution_count": 10,
   "id": "176e897c",
   "metadata": {},
   "outputs": [
    {
     "data": {
      "text/html": [
       "<div>\n",
       "<style scoped>\n",
       "    .dataframe tbody tr th:only-of-type {\n",
       "        vertical-align: middle;\n",
       "    }\n",
       "\n",
       "    .dataframe tbody tr th {\n",
       "        vertical-align: top;\n",
       "    }\n",
       "\n",
       "    .dataframe thead th {\n",
       "        text-align: right;\n",
       "    }\n",
       "</style>\n",
       "<table border=\"1\" class=\"dataframe\">\n",
       "  <thead>\n",
       "    <tr style=\"text-align: right;\">\n",
       "      <th></th>\n",
       "      <th>Unnamed: 0</th>\n",
       "      <th>ttn_gia</th>\n",
       "      <th>ttn_bl_diem</th>\n",
       "      <th>ttn_bl_noi_dung</th>\n",
       "      <th>ttn_thuong_hieu</th>\n",
       "    </tr>\n",
       "  </thead>\n",
       "  <tbody>\n",
       "    <tr>\n",
       "      <th>0</th>\n",
       "      <td>0</td>\n",
       "      <td>45.000</td>\n",
       "      <td>5</td>\n",
       "      <td>chất lượng sản phẩm tuyệt vời</td>\n",
       "      <td>No Brand</td>\n",
       "    </tr>\n",
       "    <tr>\n",
       "      <th>1</th>\n",
       "      <td>1</td>\n",
       "      <td>255.000</td>\n",
       "      <td>4</td>\n",
       "      <td>chất lượng sản phẩm tuyệt vời, chất lượng sản ...</td>\n",
       "      <td>No Brand</td>\n",
       "    </tr>\n",
       "    <tr>\n",
       "      <th>2</th>\n",
       "      <td>2</td>\n",
       "      <td>105.000</td>\n",
       "      <td>5</td>\n",
       "      <td>chất lượng sản phẩm tuyệt vời đóng gói sản phẩ...</td>\n",
       "      <td>No Brand</td>\n",
       "    </tr>\n",
       "  </tbody>\n",
       "</table>\n",
       "</div>"
      ],
      "text/plain": [
       "   Unnamed: 0  ttn_gia  ttn_bl_diem  \\\n",
       "0           0   45.000            5   \n",
       "1           1  255.000            4   \n",
       "2           2  105.000            5   \n",
       "\n",
       "                                     ttn_bl_noi_dung ttn_thuong_hieu  \n",
       "0                      chất lượng sản phẩm tuyệt vời        No Brand  \n",
       "1  chất lượng sản phẩm tuyệt vời, chất lượng sản ...        No Brand  \n",
       "2  chất lượng sản phẩm tuyệt vời đóng gói sản phẩ...        No Brand  "
      ]
     },
     "execution_count": 10,
     "metadata": {},
     "output_type": "execute_result"
    }
   ],
   "source": [
    "file_path = 'tiki_sentiment/preprocessed_data.csv'\n",
    "df = pd.read_csv(file_path)\n",
    "df.head(3)"
   ]
  },
  {
   "cell_type": "code",
   "execution_count": 5,
   "id": "83495be3",
   "metadata": {},
   "outputs": [],
   "source": [
    "def get_top_ngram(corpus, n=None):\n",
    "    vec = CountVectorizer(ngram_range=(n, n)).fit(corpus)\n",
    "    bag_of_words = vec.transform(corpus)\n",
    "    sum_words = bag_of_words.sum(axis=0) \n",
    "    words_freq = [(word, sum_words[0, idx]) \n",
    "                  for word, idx in vec.vocabulary_.items()]\n",
    "    words_freq =sorted(words_freq, key = lambda x: x[1], reverse=True)\n",
    "    return words_freq[:10]"
   ]
  },
  {
   "cell_type": "code",
   "execution_count": 16,
   "id": "5c2db6a5",
   "metadata": {
    "scrolled": true
   },
   "outputs": [
    {
     "data": {
      "text/plain": [
       "<AxesSubplot:>"
      ]
     },
     "execution_count": 16,
     "metadata": {},
     "output_type": "execute_result"
    },
    {
     "data": {
      "image/png": "[encoded data removed]",
      "text/plain": [
       "<Figure size 432x288 with 1 Axes>"
      ]
     },
     "metadata": {
      "needs_background": "light"
     },
     "output_type": "display_data"
    }
   ],
   "source": [
    "# clean text\n",
    "top_bi_bigrams=get_top_ngram(df['ttn_bl_noi_dung'],1)\n",
    "x2,y2=map(list,zip(*top_bi_bigrams))\n",
    "sns.barplot(x=y2,y=x2)"
   ]
  },
  {
   "cell_type": "code",
   "execution_count": 3,
   "id": "97c8e3a6",
   "metadata": {},
   "outputs": [
    {
     "data": {
      "text/plain": [
       "(10066, 4)"
      ]
     },
     "execution_count": 3,
     "metadata": {},
     "output_type": "execute_result"
    }
   ],
   "source": [
    "df.shape"
   ]
  },
  {
   "cell_type": "code",
   "execution_count": null,
   "id": "f5ee93d6",
   "metadata": {
    "code_folding": [],
    "scrolled": true
   },
   "outputs": [],
   "source": [
    "# initialize dicts and functions\n",
    "STOP_WORDS = []\n",
    "with open('vocab/vietnamese_stopwords.txt', 'r', encoding='UTF-8') as f:\n",
    "    lines = f.read().splitlines()\n",
    "    STOP_WORDS.append(lines)\n",
    "\n",
    "ACRONYMS = {}\n",
    "with open('vocab/acronym.txt', 'r', encoding='UTF-8') as f:\n",
    "    lines = f.read().splitlines()\n",
    "    for line in lines:\n",
    "        text = line.split(',')[0]\n",
    "        text_acronym = line.split(',')[1]\n",
    "        ACRONYMS[text] = text_acronym\n",
    "        \n",
    "def remove_stopwords(text):\n",
    "    return \" \".join([word for word in str(text).split() if word not in STOP_WORDS])\n",
    "        \n",
    "def remove_punctuation(text):\n",
    "    return text.translate(str.maketrans('', '', string.punctuation))\n",
    "\n",
    "def remove_moneysign(text):\n",
    "    return text.translate(str.maketrans('', '', '₫'))\n",
    "\n",
    "def replace_with_acronym(text):\n",
    "    if (text in ACRONYMS):\n",
    "        return ACRONYMS[text]\n",
    "    return text\n",
    "\n",
    "def convert_emoticons(text):\n",
    "    for emot in EMOTICONS:\n",
    "        text = re.sub(u'('+emot+')', \"_\".join(EMOTICONS[emot].replace(\",\",\"\").split()), text)\n",
    "    return text\n",
    "\n",
    "def remove_emoticons(text):\n",
    "    emoticon_pattern = re.compile(u'(' + u'|'.join(k for k in Emoticon_Dict) + u')')\n",
    "    return emoticon_pattern.sub(r'', text)\n",
    "    \n",
    "# get mean of bl_diem array\n",
    "df['ttn_bl_diem'] = df['ttn_bl_diem'].apply( lambda sentiment_array: \n",
    "                    int(np.mean([int(sentiment) for sentiment in sentiment_array])))\n",
    "\n",
    "# reduce vietnamdong sign\n",
    "df['ttn_gia'] = df['ttn_gia'].apply( lambda value: remove_moneysign(value))\n",
    "\n",
    "# replace nan values with 0\n",
    "df['ttn_thuong_hieu'] = df['ttn_thuong_hieu'].replace(np.nan, 0)\n",
    "\n",
    "# to lowercase\n",
    "df['ttn_bl_noi_dung'] = df['ttn_bl_noi_dung'].apply( lambda comment_array: \n",
    "                    [comment.lower() for comment in comment_array])\n",
    "# remove punctuations\n",
    "df['ttn_bl_noi_dung'] = df['ttn_bl_noi_dung'].apply(lambda comment_array: \n",
    "                    [remove_punctuation(comment) for comment in comment_array])\n",
    "\n",
    "# remove stopwords\n",
    "df['ttn_bl_noi_dung'] = df['ttn_bl_noi_dung'].apply(lambda comment_array: \n",
    "                    [remove_stopwords(comment) for comment in comment_array])\n",
    "\n",
    "# remove stopwords\n",
    "df['ttn_bl_noi_dung'] = df['ttn_bl_noi_dung'].apply(lambda comment_array: \n",
    "                    [remove_stopwords(comment) for comment in comment_array])\n",
    "\n",
    "# replace words with acronyms\n",
    "df['ttn_bl_noi_dung'] = df['ttn_bl_noi_dung'].apply(lambda comment_array: \n",
    "                    [replace_with_acronym(comment) for comment in comment_array])\n",
    "\n",
    "# # replace emoticons with english words\n",
    "df['ttn_bl_noi_dung'] = df['ttn_bl_noi_dung'].apply(lambda comment_array: \n",
    "                    [convert_emoticons(comment) for comment in comment_array])\n",
    "\n",
    "# maybe join comment array to a huge string \n",
    "df['ttn_bl_noi_dung'] = df['ttn_bl_noi_dung'].apply(lambda comment_array: ', '.join([str(x) for x in comment_array]) )\n"
   ]
  },
  {
   "cell_type": "code",
   "execution_count": 63,
   "id": "e4ac50d4",
   "metadata": {},
   "outputs": [],
   "source": [
    "import emoji\n",
    "import functools\n",
    "import operator\n",
    "\n",
    "# split_emoji sticking to other words\n",
    "def split_emoji(em):\n",
    "    em_split_emoji = emoji.get_emoji_regexp().split(em)\n",
    "    em_split_whitespace = [substr.split() for substr in em_split_emoji]\n",
    "    em_split = functools.reduce(operator.concat, em_split_whitespace)\n",
    "    return ' '.join(em_split)\n",
    "df['ttn_bl_noi_dung'] = df['ttn_bl_noi_dung'].apply(lambda comment: convert_emoticons(comment))\n",
    "\n",
    "# replace emoticons with english words\n",
    "def convert_emoticons(text):\n",
    "    for emot in EMOTICONS:\n",
    "        text = re.sub(u'('+emot+')', \"_\".join(EMOTICONS[emot].replace(\",\",\"\").split()), text)\n",
    "    return text\n",
    "\n",
    "df['ttn_bl_noi_dung'] = df['ttn_bl_noi_dung'].apply(lambda comment: emoji.demojize(comment))"
   ]
  },
  {
   "cell_type": "code",
   "execution_count": 23,
   "id": "a81df490",
   "metadata": {},
   "outputs": [],
   "source": [
    "# remove duplicated first character and last character\n",
    "def remove_duplicate_character(text):\n",
    "    prev_c = '%'\n",
    "    result = ''\n",
    "    for c in text:\n",
    "        if (prev_c != c):\n",
    "            result += c\n",
    "            prev_c = c\n",
    "    return result\n",
    "df['ttn_bl_noi_dung'] = df['ttn_bl_noi_dung'].apply(lambda comment: remove_duplicate_character(comment))"
   ]
  },
  {
   "cell_type": "code",
   "execution_count": null,
   "id": "1d4ba0a1",
   "metadata": {},
   "outputs": [],
   "source": [
    "from collections import Counter\n",
    "cnt = Counter()\n",
    "for text in df[\"ttn_bl_noi_dung\"].values:\n",
    "    for word in text.split():\n",
    "        cnt[word] += 1\n",
    "cnt.most_common()[:-1000:-1]"
   ]
  },
  {
   "cell_type": "code",
   "execution_count": null,
   "id": "57a392d8",
   "metadata": {},
   "outputs": [],
   "source": [
    "# remove uncommon words\n",
    "RAREWORDS = set([w for (w, wc) in cnt.most_common()[:-n_rare_words-1:-1]])\n",
    "def remove_rarewords(text):\n",
    "    return \" \".join([word for word in str(text).split() if word not in RAREWORDS])\n",
    "\n",
    "df['ttn_bl_noi_dung'] = df['ttn_bl_noi_dung'].apply(lambda word: remove_rarewords(word))"
   ]
  },
  {
   "cell_type": "code",
   "execution_count": 66,
   "id": "c2565108",
   "metadata": {},
   "outputs": [],
   "source": [
    "df.to_csv('tiki_sentiment/preprocessed_data.csv')"
   ]
  },
  {
   "cell_type": "code",
   "execution_count": 113,
   "id": "735ec3fd",
   "metadata": {},
   "outputs": [
    {
     "data": {
      "text/plain": [
       "5    47.913769\n",
       "4    45.161931\n",
       "2     0.675541\n",
       "3     5.364594\n",
       "1     0.884165\n",
       "Name: ttn_bl_diem, dtype: float64"
      ]
     },
     "execution_count": 113,
     "metadata": {},
     "output_type": "execute_result"
    }
   ],
   "source": [
    "df['ttn_bl_diem'].value_counts(sort=False)/len(df['ttn_bl_diem']) * 100"
   ]
  },
  {
   "cell_type": "code",
   "execution_count": 108,
   "id": "d38f1ef5",
   "metadata": {},
   "outputs": [
    {
     "data": {
      "text/plain": [
       "Text(0, 0.5, 'Label')"
      ]
     },
     "execution_count": 108,
     "metadata": {},
     "output_type": "execute_result"
    },
    {
     "data": {
      "image/png": "[encoded data removed]",
      "text/plain": [
       "<Figure size 432x288 with 1 Axes>"
      ]
     },
     "metadata": {
      "needs_background": "light"
     },
     "output_type": "display_data"
    }
   ],
   "source": [
    "ax = df['ttn_bl_diem'].value_counts(sort=False).plot(kind='barh')\n",
    "ax.set_xlabel('Number of Samples in training Set')\n",
    "ax.set_ylabel('Label')"
   ]
  },
  {
   "cell_type": "markdown",
   "id": "04767da8",
   "metadata": {},
   "source": [
    "# Visualization"
   ]
  },
  {
   "cell_type": "code",
   "execution_count": 2,
   "id": "543e4c88",
   "metadata": {
    "code_folding": []
   },
   "outputs": [
    {
     "data": {
      "text/html": [
       "<div>\n",
       "<style scoped>\n",
       "    .dataframe tbody tr th:only-of-type {\n",
       "        vertical-align: middle;\n",
       "    }\n",
       "\n",
       "    .dataframe tbody tr th {\n",
       "        vertical-align: top;\n",
       "    }\n",
       "\n",
       "    .dataframe thead th {\n",
       "        text-align: right;\n",
       "    }\n",
       "</style>\n",
       "<table border=\"1\" class=\"dataframe\">\n",
       "  <thead>\n",
       "    <tr style=\"text-align: right;\">\n",
       "      <th></th>\n",
       "      <th>ttn_gia</th>\n",
       "      <th>ttn_bl_diem</th>\n",
       "      <th>ttn_bl_noi_dung</th>\n",
       "      <th>ttn_thuong_hieu</th>\n",
       "    </tr>\n",
       "  </thead>\n",
       "  <tbody>\n",
       "    <tr>\n",
       "      <th>0</th>\n",
       "      <td>45.000</td>\n",
       "      <td>5</td>\n",
       "      <td>chất lượng sản phẩm tuyệt vời</td>\n",
       "      <td>No Brand</td>\n",
       "    </tr>\n",
       "    <tr>\n",
       "      <th>1</th>\n",
       "      <td>255.000</td>\n",
       "      <td>4</td>\n",
       "      <td>chất lượng sản phẩm tuyệt vời, chất lượng sản ...</td>\n",
       "      <td>No Brand</td>\n",
       "    </tr>\n",
       "    <tr>\n",
       "      <th>2</th>\n",
       "      <td>105.000</td>\n",
       "      <td>5</td>\n",
       "      <td>chất lượng sản phẩm tuyệt vời đóng gói sản phẩ...</td>\n",
       "      <td>No Brand</td>\n",
       "    </tr>\n",
       "  </tbody>\n",
       "</table>\n",
       "</div>"
      ],
      "text/plain": [
       "   ttn_gia  ttn_bl_diem                                    ttn_bl_noi_dung  \\\n",
       "0   45.000            5                      chất lượng sản phẩm tuyệt vời   \n",
       "1  255.000            4  chất lượng sản phẩm tuyệt vời, chất lượng sản ...   \n",
       "2  105.000            5  chất lượng sản phẩm tuyệt vời đóng gói sản phẩ...   \n",
       "\n",
       "  ttn_thuong_hieu  \n",
       "0        No Brand  \n",
       "1        No Brand  \n",
       "2        No Brand  "
      ]
     },
     "execution_count": 2,
     "metadata": {},
     "output_type": "execute_result"
    }
   ],
   "source": [
    "df = pd.read_csv('tiki_sentiment/preprocessed_data.csv')\n",
    "df.drop(['Unnamed: 0'], axis=1, inplace = True)\n",
    "df.head(3)"
   ]
  },
  {
   "cell_type": "markdown",
   "id": "8bc09ef7",
   "metadata": {},
   "source": [
    "## Wordcloud"
   ]
  },
  {
   "cell_type": "code",
   "execution_count": null,
   "id": "5b720a82",
   "metadata": {},
   "outputs": [],
   "source": [
    "review = df[df.ttn_bl_diem == 1]\n",
    "review = df[df.ttn_bl_diem == 2]\n",
    "review = df[df.ttn_bl_diem == 3]\n",
    "review = df[df.ttn_bl_diem == 4]\n",
    "review = df[df.ttn_bl_diem == 5]"
   ]
  },
  {
   "cell_type": "code",
   "execution_count": null,
   "id": "c2dcaa7f",
   "metadata": {},
   "outputs": [],
   "source": [
    "review_string = []\n",
    "for t in review.ttn_bl_noi_dung:\n",
    "    review_string.append(t)\n",
    "review_string = pd.Series(review_string).str.cat(sep=' ')"
   ]
  },
  {
   "cell_type": "code",
   "execution_count": null,
   "id": "5ae560b0",
   "metadata": {},
   "outputs": [],
   "source": [
    "from wordcloud import WordCloud\n",
    "\n",
    "wordcloud = WordCloud(width=1600, height=800,max_font_size=200).generate(review_string)\n",
    "plt.figure(figsize=(12,10))\n",
    "plt.imshow(wordcloud, interpolation=\"bilinear\")\n",
    "plt.axis(\"off\")\n",
    "plt.show()"
   ]
  },
  {
   "cell_type": "markdown",
   "id": "43cdd969",
   "metadata": {},
   "source": [
    "## CountVectorizer"
   ]
  },
  {
   "cell_type": "code",
   "execution_count": 4,
   "id": "6ca03e9f",
   "metadata": {},
   "outputs": [],
   "source": [
    "from sklearn.feature_extraction.text import CountVectorizer"
   ]
  },
  {
   "cell_type": "code",
   "execution_count": 7,
   "id": "166420d3",
   "metadata": {
    "scrolled": false
   },
   "outputs": [
    {
     "name": "stderr",
     "output_type": "stream",
     "text": [
      "D:\\Library\\sdk\\Anaconda\\envs\\ml\\lib\\site-packages\\sklearn\\utils\\deprecation.py:87: FutureWarning: Function get_feature_names is deprecated; get_feature_names is deprecated in 1.0 and will be removed in 1.2. Please use get_feature_names_out instead.\n",
      "  warnings.warn(msg, category=FutureWarning)\n"
     ]
    }
   ],
   "source": [
    "cvec = CountVectorizer()\n",
    "cvec.fit(df.ttn_bl_noi_dung)\n",
    "\n",
    "neg_doc_matrix = cvec.transform(df[df.ttn_bl_diem == 1].ttn_bl_noi_dung)\n",
    "slight_neg_doc_matrix = cvec.transform(df[df.ttn_bl_diem == 2].ttn_bl_noi_dung)\n",
    "neutral_matrix = cvec.transform(df[df.ttn_bl_diem == 3].ttn_bl_noi_dung)\n",
    "slight_pos_doc_matrix = cvec.transform(df[df.ttn_bl_diem == 4].ttn_bl_noi_dung)\n",
    "pos_doc_matrix = cvec.transform(df[df.ttn_bl_diem == 5].ttn_bl_noi_dung)\n",
    "\n",
    "slight_neg_tf = np.sum(neg_doc_matrix,axis=0)\n",
    "neg_tf = np.sum(slight_neg_doc_matrix,axis=0)\n",
    "neutral_tf = np.sum(neutral_matrix,axis=0)\n",
    "slight_pos_tf = np.sum(slight_pos_doc_matrix,axis=0)\n",
    "pos_tf = np.sum(pos_doc_matrix,axis=0)\n",
    "\n",
    "slight_neg = np.squeeze(np.asarray(slight_neg_tf))\n",
    "neg = np.squeeze(np.asarray(neg_tf))\n",
    "neutral = np.squeeze(np.asarray(neutral_tf))\n",
    "slight_pos = np.squeeze(np.asarray(slight_pos_tf))\n",
    "pos = np.squeeze(np.asarray(pos_tf))\n",
    "\n",
    "term_freq_df = pd.DataFrame([slight_neg, neg, neutral, slight_pos, pos],\n",
    "                            columns=cvec.get_feature_names()).transpose()"
   ]
  },
  {
   "cell_type": "code",
   "execution_count": 68,
   "id": "cdd84f63",
   "metadata": {},
   "outputs": [
    {
     "data": {
      "text/plain": [
       "['03',\n",
       " '07',\n",
       " '09',\n",
       " '10',\n",
       " '1010',\n",
       " '102017',\n",
       " '105k',\n",
       " '1060',\n",
       " '109k',\n",
       " '10c',\n",
       " '10cm',\n",
       " '10k',\n",
       " '10kg',\n",
       " '10p',\n",
       " '10sao',\n",
       " '12',\n",
       " '12017',\n",
       " '120k',\n",
       " '125k',\n",
       " '12c',\n",
       " '12h',\n",
       " '12k',\n",
       " '13',\n",
       " '130k',\n",
       " '13k',\n",
       " '14',\n",
       " '15',\n",
       " '150k',\n",
       " '15k',\n",
       " '15kg',\n",
       " '15m',\n",
       " '16',\n",
       " '160k',\n",
       " '170k',\n",
       " '175k',\n",
       " '180k',\n",
       " '19',\n",
       " '197k',\n",
       " '19k',\n",
       " '1ao',\n",
       " '1b',\n",
       " '1c',\n",
       " '1cai',\n",
       " '1cm',\n",
       " '1h',\n",
       " '1k',\n",
       " '1kg',\n",
       " '1kiu',\n",
       " '1l',\n",
       " '1m',\n",
       " '1m5',\n",
       " '1m50',\n",
       " '1m52',\n",
       " '1m53',\n",
       " '1m54',\n",
       " '1m56',\n",
       " '1m57',\n",
       " '1m58',\n",
       " '1m59',\n",
       " '1m6',\n",
       " '1m60',\n",
       " '1m61',\n",
       " '1m62',\n",
       " '1m63',\n",
       " '1m64',\n",
       " '1m65',\n",
       " '1m67',\n",
       " '1m68',\n",
       " '1m7',\n",
       " '1size',\n",
       " '20',\n",
       " '2017',\n",
       " '2018',\n",
       " '20h',\n",
       " '20k',\n",
       " '23',\n",
       " '24',\n",
       " '24h',\n",
       " '25',\n",
       " '250k',\n",
       " '251',\n",
       " '25k',\n",
       " '26',\n",
       " '27',\n",
       " '28',\n",
       " '280k',\n",
       " '29',\n",
       " '290đ',\n",
       " '29k',\n",
       " '2c',\n",
       " '2cai',\n",
       " '2cm',\n",
       " '2h',\n",
       " '2kg',\n",
       " '2lan',\n",
       " '2mau',\n",
       " '2x',\n",
       " '2xl',\n",
       " '30',\n",
       " '30cm',\n",
       " '30k',\n",
       " '30p',\n",
       " '32',\n",
       " '34',\n",
       " '35',\n",
       " '35k',\n",
       " '36',\n",
       " '37',\n",
       " '38',\n",
       " '39',\n",
       " '39c',\n",
       " '39k',\n",
       " '39kg',\n",
       " '3c',\n",
       " '3cm',\n",
       " '3d',\n",
       " '3h',\n",
       " '3k',\n",
       " '3kg',\n",
       " '3m',\n",
       " '3sao',\n",
       " '3sp',\n",
       " '3xl',\n",
       " '40',\n",
       " '40k',\n",
       " '40kg',\n",
       " '41',\n",
       " '41kg',\n",
       " '42',\n",
       " '42kg',\n",
       " '43',\n",
       " '43kg',\n",
       " '45',\n",
       " '4548kg',\n",
       " '45kg',\n",
       " '46',\n",
       " '46kg',\n",
       " '47',\n",
       " '47kg',\n",
       " '48',\n",
       " '48kg',\n",
       " '49',\n",
       " '49kg',\n",
       " '4c',\n",
       " '4g',\n",
       " '4k',\n",
       " '4kg',\n",
       " '4xl',\n",
       " '50',\n",
       " '502',\n",
       " '505kg',\n",
       " '50k',\n",
       " '50kg',\n",
       " '51kg',\n",
       " '52',\n",
       " '52kg',\n",
       " '53',\n",
       " '53kg',\n",
       " '54',\n",
       " '54kg',\n",
       " '56kg',\n",
       " '57kg',\n",
       " '58kg',\n",
       " '59k',\n",
       " '5c',\n",
       " '5cm',\n",
       " '5k',\n",
       " '5kc',\n",
       " '5kg',\n",
       " '5l',\n",
       " '5p',\n",
       " '5s',\n",
       " '5sao',\n",
       " '5t',\n",
       " '60',\n",
       " '60k',\n",
       " '60kg',\n",
       " '62',\n",
       " '62kg',\n",
       " '63kg',\n",
       " '65',\n",
       " '65k',\n",
       " '65kg',\n",
       " '67',\n",
       " '68kg',\n",
       " '69k',\n",
       " '6c',\n",
       " '6kg',\n",
       " '6s',\n",
       " '70',\n",
       " '70k',\n",
       " '70kg',\n",
       " '710',\n",
       " '72k',\n",
       " '73',\n",
       " '75',\n",
       " '75cm',\n",
       " '75k',\n",
       " '75kg',\n",
       " '7610',\n",
       " '79k',\n",
       " '7kg',\n",
       " '80',\n",
       " '80k',\n",
       " '80kg',\n",
       " '84',\n",
       " '85',\n",
       " '85k',\n",
       " '86',\n",
       " '89',\n",
       " '89k',\n",
       " '8k',\n",
       " '90',\n",
       " '90k',\n",
       " '94',\n",
       " '95',\n",
       " '95k',\n",
       " '9k',\n",
       " 'a4',\n",
       " 'ad',\n",
       " 'adidas',\n",
       " 'ae',\n",
       " 'ah',\n",
       " 'ahihi',\n",
       " 'ai',\n",
       " 'ak',\n",
       " 'alo',\n",
       " 'am',\n",
       " 'an',\n",
       " 'and',\n",
       " 'android',\n",
       " 'anger_symbol',\n",
       " 'angry_face',\n",
       " 'anguished_face',\n",
       " 'anh',\n",
       " 'anw',\n",
       " 'anxious_face_with_sweat',\n",
       " 'ao',\n",
       " 'ap',\n",
       " 'auth',\n",
       " 'auto',\n",
       " 'aw',\n",
       " 'aó',\n",
       " 'ba',\n",
       " 'backhand_index_pointing_right',\n",
       " 'bagy',\n",
       " 'bai',\n",
       " 'balloon',\n",
       " 'balo',\n",
       " 'ban',\n",
       " 'bang',\n",
       " 'banh',\n",
       " 'bao',\n",
       " 'bas',\n",
       " 'base',\n",
       " 'basic',\n",
       " 'bat',\n",
       " 'bay',\n",
       " 'be',\n",
       " 'beaming_face_with_smiling_eyes',\n",
       " 'beating_heart',\n",
       " 'ben',\n",
       " 'best',\n",
       " 'bgio',\n",
       " 'bh',\n",
       " 'bi',\n",
       " 'bia',\n",
       " 'bich',\n",
       " 'biet',\n",
       " 'bigsize',\n",
       " 'bik',\n",
       " 'bikini',\n",
       " 'bil',\n",
       " 'bin',\n",
       " 'binh',\n",
       " 'bit',\n",
       " 'biê',\n",
       " 'biêt',\n",
       " 'biến',\n",
       " 'biết',\n",
       " 'biển',\n",
       " 'biệt',\n",
       " 'bj',\n",
       " 'bjk',\n",
       " 'bjo',\n",
       " 'black',\n",
       " 'black_heart',\n",
       " 'blue',\n",
       " 'blue_heart',\n",
       " 'bluetoth',\n",
       " 'bn',\n",
       " 'bo',\n",
       " 'body',\n",
       " 'bok',\n",
       " 'bon',\n",
       " 'bong',\n",
       " 'bonus',\n",
       " 'bos',\n",
       " 'bouquet',\n",
       " 'box',\n",
       " 'bra',\n",
       " 'bt',\n",
       " 'bth',\n",
       " 'bthg',\n",
       " 'bts',\n",
       " 'bu',\n",
       " 'bug',\n",
       " 'bui',\n",
       " 'bung',\n",
       " 'buon',\n",
       " 'but',\n",
       " 'buôn',\n",
       " 'buồn',\n",
       " 'buổi',\n",
       " 'buộc',\n",
       " 'buột',\n",
       " 'by',\n",
       " 'bye',\n",
       " 'bà',\n",
       " 'bài',\n",
       " 'bàn',\n",
       " 'bày',\n",
       " 'bá',\n",
       " 'bác',\n",
       " 'bám',\n",
       " 'bán',\n",
       " 'bánh',\n",
       " 'báo',\n",
       " 'bát',\n",
       " 'bâ',\n",
       " 'bân',\n",
       " 'bây',\n",
       " 'bã',\n",
       " 'bão',\n",
       " 'bè',\n",
       " 'bèo',\n",
       " 'bé',\n",
       " 'béo',\n",
       " 'bét',\n",
       " 'bê',\n",
       " 'bên',\n",
       " 'bì',\n",
       " 'bìa',\n",
       " 'bình',\n",
       " 'bí',\n",
       " 'bít',\n",
       " 'bò',\n",
       " 'bó',\n",
       " 'bóc',\n",
       " 'bóng',\n",
       " 'bóp',\n",
       " 'bô',\n",
       " 'bôi',\n",
       " 'bông',\n",
       " 'bõ',\n",
       " 'bù',\n",
       " 'bùi',\n",
       " 'bùn',\n",
       " 'bùng',\n",
       " 'bú',\n",
       " 'bút',\n",
       " 'bă',\n",
       " 'băn',\n",
       " 'băng',\n",
       " 'bơ',\n",
       " 'bơi',\n",
       " 'bơm',\n",
       " 'bưu',\n",
       " 'bước',\n",
       " 'bướm',\n",
       " 'bạc',\n",
       " 'bạn',\n",
       " 'bản',\n",
       " 'bảng',\n",
       " 'bảo',\n",
       " 'bấm',\n",
       " 'bất',\n",
       " 'bầu',\n",
       " 'bẩn',\n",
       " 'bận',\n",
       " 'bật',\n",
       " 'bậy',\n",
       " 'bắc',\n",
       " 'bắn',\n",
       " 'bắp',\n",
       " 'bắt',\n",
       " 'bằg',\n",
       " 'bằng',\n",
       " 'bẹp',\n",
       " 'bẻ',\n",
       " 'bến',\n",
       " 'bếp',\n",
       " 'bề',\n",
       " 'bền',\n",
       " 'bể',\n",
       " 'bệnh',\n",
       " 'bỉm',\n",
       " 'bị',\n",
       " 'bịch',\n",
       " 'bịp',\n",
       " 'bọc',\n",
       " 'bọn',\n",
       " 'bọt',\n",
       " 'bỏ',\n",
       " 'bố',\n",
       " 'bốc',\n",
       " 'bốn',\n",
       " 'bồ',\n",
       " 'bổ',\n",
       " 'bộ',\n",
       " 'bội',\n",
       " 'bột',\n",
       " 'bớt',\n",
       " 'bởi',\n",
       " 'bục',\n",
       " 'bụi',\n",
       " 'bụng',\n",
       " 'bức',\n",
       " 'bửa',\n",
       " 'bữa',\n",
       " 'bự',\n",
       " 'bực',\n",
       " 'ca',\n",
       " 'cac',\n",
       " 'cach',\n",
       " 'cafe',\n",
       " 'cai',\n",
       " 'cam',\n",
       " 'camera',\n",
       " 'can',\n",
       " 'canh',\n",
       " 'canon',\n",
       " 'cao',\n",
       " 'cap',\n",
       " 'card',\n",
       " 'cardigan',\n",
       " 'caro',\n",
       " 'carton',\n",
       " 'case',\n",
       " 'cau',\n",
       " 'cay',\n",
       " 'cb',\n",
       " 'cbi',\n",
       " 'ce',\n",
       " 'cg',\n",
       " 'ch',\n",
       " 'cha',\n",
       " 'chac',\n",
       " 'chai',\n",
       " 'cham',\n",
       " 'chan',\n",
       " 'chanel',\n",
       " 'chang',\n",
       " 'chanh',\n",
       " 'chao',\n",
       " 'chap',\n",
       " 'charm',\n",
       " 'chat',\n",
       " 'chata',\n",
       " 'chay',\n",
       " 'che',\n",
       " 'check',\n",
       " 'chek',\n",
       " 'chen',\n",
       " 'cherry_blossom',\n",
       " 'chi',\n",
       " 'chia',\n",
       " 'chieu',\n",
       " 'chim',\n",
       " 'china',\n",
       " 'chinh',\n",
       " 'chip',\n",
       " 'chiu',\n",
       " 'chiê',\n",
       " 'chiêc',\n",
       " 'chiên',\n",
       " 'chiếc',\n",
       " 'chiết',\n",
       " 'chiều',\n",
       " 'chj',\n",
       " 'cho',\n",
       " 'choi',\n",
       " 'chon',\n",
       " 'choé',\n",
       " 'chu',\n",
       " 'chua',\n",
       " 'chuan',\n",
       " 'chuc',\n",
       " 'chug',\n",
       " 'chui',\n",
       " 'chun',\n",
       " 'chung',\n",
       " 'chup',\n",
       " 'chut',\n",
       " 'chuyen',\n",
       " 'chuyê',\n",
       " 'chuyên',\n",
       " 'chuyển',\n",
       " 'chuyện',\n",
       " 'chuâ',\n",
       " 'chuông',\n",
       " 'chuẩn',\n",
       " 'chuối',\n",
       " 'chuột',\n",
       " 'chà',\n",
       " 'chành',\n",
       " 'chán',\n",
       " 'chánh',\n",
       " 'cháo',\n",
       " 'chát',\n",
       " 'cháu',\n",
       " 'cháy',\n",
       " 'châ',\n",
       " 'châm',\n",
       " 'chân',\n",
       " 'chât',\n",
       " 'châu',\n",
       " 'chèn',\n",
       " 'chén',\n",
       " 'chéo',\n",
       " 'chê',\n",
       " 'chênh',\n",
       " 'chì',\n",
       " 'chí',\n",
       " 'chích',\n",
       " 'chín',\n",
       " 'chính',\n",
       " 'chíp',\n",
       " 'chó',\n",
       " 'chóc',\n",
       " 'chóe',\n",
       " 'chói',\n",
       " 'chóng',\n",
       " 'chô',\n",
       " 'chùi',\n",
       " 'chùm',\n",
       " 'chú',\n",
       " 'chúc',\n",
       " 'chúng',\n",
       " 'chút',\n",
       " 'chútnhưng',\n",
       " 'chă',\n",
       " 'chăm',\n",
       " 'chăn',\n",
       " 'chăng',\n",
       " 'chĩ',\n",
       " 'chơi',\n",
       " 'chư',\n",
       " 'chưa',\n",
       " 'chương',\n",
       " 'chạm',\n",
       " 'chạy',\n",
       " 'chả',\n",
       " 'chải',\n",
       " 'chảnh',\n",
       " 'chảo',\n",
       " 'chảy',\n",
       " 'chấ',\n",
       " 'chấm',\n",
       " 'chấp',\n",
       " 'chất',\n",
       " 'chấtlượngsảnphẩmổno',\n",
       " 'chần',\n",
       " 'chậm',\n",
       " 'chập',\n",
       " 'chật',\n",
       " 'chắc',\n",
       " 'chắn',\n",
       " 'chắnchất',\n",
       " 'chắnchủ',\n",
       " 'chắngiao',\n",
       " 'chắnhang',\n",
       " 'chắnhàng',\n",
       " 'chắnhưng',\n",
       " 'chắnmik',\n",
       " 'chắnmua',\n",
       " 'chắnmình',\n",
       " 'chắnquần',\n",
       " 'chắnrất',\n",
       " 'chắnshop',\n",
       " 'chắnsẽ',\n",
       " 'chắnthời',\n",
       " 'chắnvải',\n",
       " 'chắnáo',\n",
       " 'chẳng',\n",
       " 'chặn',\n",
       " 'chặt',\n",
       " 'chẹp',\n",
       " 'chẽ',\n",
       " 'chế',\n",
       " 'chết',\n",
       " 'chỉ',\n",
       " 'chỉn',\n",
       " 'chỉnh',\n",
       " 'chỉrách',\n",
       " 'chị',\n",
       " 'chịu',\n",
       " 'chọc',\n",
       " 'chọn',\n",
       " 'chối',\n",
       " 'chống',\n",
       " 'chốt',\n",
       " 'chồng',\n",
       " 'chổ',\n",
       " 'chổi',\n",
       " 'chỗ',\n",
       " 'chỗk',\n",
       " 'chớ',\n",
       " 'chớp',\n",
       " 'chờ',\n",
       " 'chờn',\n",
       " 'chợ',\n",
       " 'chục',\n",
       " 'chụp',\n",
       " 'chủ',\n",
       " 'chủng',\n",
       " 'chứ',\n",
       " 'chứa',\n",
       " 'chứng',\n",
       " 'chừ',\n",
       " 'chừa',\n",
       " 'chừng',\n",
       " 'chử',\n",
       " 'chửi',\n",
       " 'chữ',\n",
       " 'ciu',\n",
       " 'cj',\n",
       " 'ck',\n",
       " 'cl',\n",
       " 'clapping_hands',\n",
       " 'clapping_hands_dark_skin_tone',\n",
       " 'clapping_hands_light_skin_tone',\n",
       " 'clip',\n",
       " 'club',\n",
       " 'cm',\n",
       " 'cmnr',\n",
       " 'cmt',\n",
       " 'cn',\n",
       " 'co',\n",
       " 'coa',\n",
       " 'code',\n",
       " 'coi',\n",
       " 'col',\n",
       " 'collision',\n",
       " 'combo',\n",
       " 'coment',\n",
       " 'comet',\n",
       " 'company',\n",
       " 'con',\n",
       " 'confounded_face',\n",
       " 'confused_face',\n",
       " 'cong',\n",
       " 'converse',\n",
       " 'copy',\n",
       " 'coton',\n",
       " 'couple_with_heart',\n",
       " 'crop',\n",
       " 'croptop',\n",
       " 'cross_mark',\n",
       " 'crt',\n",
       " 'crush',\n",
       " 'crying_face',\n",
       " 'cskh',\n",
       " 'ctrai',\n",
       " 'cty',\n",
       " 'cu',\n",
       " 'cua',\n",
       " 'cuc',\n",
       " 'cug',\n",
       " 'cung',\n",
       " 'cup',\n",
       " 'cute',\n",
       " 'cuối',\n",
       " 'cuốn',\n",
       " 'cuộc',\n",
       " 'cuộn',\n",
       " 'cv',\n",
       " 'cx',\n",
       " 'cà',\n",
       " 'cài',\n",
       " 'càn',\n",
       " 'càng',\n",
       " 'cào',\n",
       " 'cá',\n",
       " 'các',\n",
       " 'cách',\n",
       " 'cái',\n",
       " 'cám',\n",
       " 'cán',\n",
       " 'cánh',\n",
       " 'cáo',\n",
       " 'cáp',\n",
       " 'cát',\n",
       " 'câ',\n",
       " 'cân',\n",
       " 'câu',\n",
       " 'cây',\n",
       " 'cãi',\n",
       " 'còn',\n",
       " 'có',\n",
       " 'cô',\n",
       " 'côg',\n",
       " 'công',\n",
       " 'cùg',\n",
       " 'cùi',\n",
       " 'cùng',\n",
       " 'cú',\n",
       " 'cúc',\n",
       " 'cúng',\n",
       " 'cúp',\n",
       " 'că',\n",
       " 'căng',\n",
       " 'cũ',\n",
       " 'cũg',\n",
       " 'cũn',\n",
       " 'cũng',\n",
       " 'cơ',\n",
       " 'cơm',\n",
       " 'cơn',\n",
       " 'cư',\n",
       " 'cưc',\n",
       " 'cưng',\n",
       " 'cước',\n",
       " 'cưới',\n",
       " 'cướp',\n",
       " 'cười',\n",
       " 'cường',\n",
       " 'cạch',\n",
       " 'cạn',\n",
       " 'cạnh',\n",
       " 'cạp',\n",
       " 'cả',\n",
       " 'cải',\n",
       " 'cảm',\n",
       " 'cản',\n",
       " 'cảnh',\n",
       " 'cấn',\n",
       " 'cấp',\n",
       " 'cất',\n",
       " 'cấu',\n",
       " 'cầm',\n",
       " 'cần',\n",
       " 'cầu',\n",
       " 'cẩn',\n",
       " 'cẩu',\n",
       " 'cận',\n",
       " 'cập',\n",
       " 'cậu',\n",
       " 'cậy',\n",
       " 'cắm',\n",
       " 'cắp',\n",
       " 'cắt',\n",
       " 'cặp',\n",
       " 'cọ',\n",
       " 'cọc',\n",
       " 'cọng',\n",
       " 'cố',\n",
       " 'cốc',\n",
       " 'cốt',\n",
       " 'cồng',\n",
       " 'cổ',\n",
       " 'cổng',\n",
       " 'cộc',\n",
       " 'cộng',\n",
       " 'cột',\n",
       " 'cờ',\n",
       " 'cởi',\n",
       " 'cỡ',\n",
       " 'cỡn',\n",
       " 'cụ',\n",
       " 'cục',\n",
       " 'cụt',\n",
       " 'củ',\n",
       " 'của',\n",
       " 'củng',\n",
       " 'cứ',\n",
       " 'cứng',\n",
       " 'cứt',\n",
       " 'cứu',\n",
       " 'cử',\n",
       " 'cửa',\n",
       " 'cực',\n",
       " 'da',\n",
       " 'dac',\n",
       " 'dag',\n",
       " 'dai',\n",
       " 'dam',\n",
       " 'dan',\n",
       " 'dang',\n",
       " 'danh',\n",
       " 'dao',\n",
       " 'dark_skin_tone',\n",
       " 'dat',\n",
       " 'date',\n",
       " 'dau',\n",
       " 'day',\n",
       " 'dc',\n",
       " 'dcáo',\n",
       " 'de',\n",
       " 'deal',\n",
       " 'del',\n",
       " 'delay',\n",
       " 'delivery',\n",
       " 'den',\n",
       " 'dep',\n",
       " 'deu',\n",
       " 'dgw',\n",
       " 'dhop',\n",
       " 'di',\n",
       " 'dieu',\n",
       " 'digiworld',\n",
       " 'dinh',\n",
       " 'disappointed_face',\n",
       " 'diểm',\n",
       " 'diễn',\n",
       " 'diện',\n",
       " 'diệt',\n",
       " 'dk',\n",
       " 'do',\n",
       " 'doanh',\n",
       " 'dog',\n",
       " 'doi',\n",
       " 'don',\n",
       " 'dong',\n",
       " 'down_face',\n",
       " 'downcast_face_with_sweat',\n",
       " 'drooling_face',\n",
       " 'dt',\n",
       " 'dth',\n",
       " 'dthuong',\n",
       " 'dthw',\n",
       " 'du',\n",
       " 'dua',\n",
       " 'dug',\n",
       " 'dui',\n",
       " 'dung',\n",
       " 'duoc',\n",
       " 'duoi',\n",
       " 'duong',\n",
       " 'duy',\n",
       " 'duyên',\n",
       " 'duyệt',\n",
       " 'dv',\n",
       " 'dx',\n",
       " 'dài',\n",
       " 'dàicho',\n",
       " 'dàng',\n",
       " 'dành',\n",
       " 'dày',\n",
       " 'dàyđẹp',\n",
       " 'dág',\n",
       " 'dám',\n",
       " 'dán',\n",
       " 'dáng',\n",
       " 'dánh',\n",
       " 'dân',\n",
       " 'dâu',\n",
       " 'dây',\n",
       " 'dã',\n",
       " 'dãn',\n",
       " 'dão',\n",
       " 'dè',\n",
       " 'dép',\n",
       " 'dê',\n",
       " 'dì',\n",
       " 'dìm',\n",
       " 'dính',\n",
       " 'dít',\n",
       " 'dòng',\n",
       " 'dóng',\n",
       " 'dô',\n",
       " 'dõi',\n",
       " 'dù',\n",
       " 'dùg',\n",
       " 'dùm',\n",
       " 'dùng',\n",
       " 'dúm',\n",
       " 'dúng',\n",
       " 'dă',\n",
       " 'dơ',\n",
       " 'dơcho',\n",
       " 'dơi',\n",
       " 'dư',\n",
       " 'dưa',\n",
       " 'dươ',\n",
       " 'dương',\n",
       " 'dưới',\n",
       " 'dưỡng',\n",
       " 'dược',\n",
       " 'dạ',\n",
       " 'dại',\n",
       " 'dạn',\n",
       " 'dạng',\n",
       " 'dạo',\n",
       " 'dạy',\n",
       " 'dải',\n",
       " 'dấu',\n",
       " 'dần',\n",
       " 'dầu',\n",
       " 'dầy',\n",
       " 'dẫm',\n",
       " 'dẫn',\n",
       " 'dập',\n",
       " 'dậy',\n",
       " 'dắt',\n",
       " 'dằn',\n",
       " 'dặm',\n",
       " 'dặn',\n",
       " 'dặnđẹp',\n",
       " 'dặt',\n",
       " 'dẹp',\n",
       " 'dẻ',\n",
       " 'dẻo',\n",
       " 'dẽ',\n",
       " 'dể',\n",
       " 'dễ',\n",
       " 'dệt',\n",
       " 'dị',\n",
       " 'dịch',\n",
       " 'dịp',\n",
       " 'dịu',\n",
       " 'dọc',\n",
       " 'dỏm',\n",
       " 'dối',\n",
       " 'dở',\n",
       " 'dởm',\n",
       " 'dụ',\n",
       " 'dục',\n",
       " 'dụg',\n",
       " 'dụng',\n",
       " 'dừng',\n",
       " 'dữ',\n",
       " 'dự',\n",
       " 'dựa',\n",
       " 'dựng',\n",
       " 'elephant',\n",
       " 'em',\n",
       " 'eo',\n",
       " 'evil_monkey',\n",
       " 'evoucher',\n",
       " 'excelent',\n",
       " 'expressionless_face',\n",
       " 'eyes',\n",
       " 'f1',\n",
       " 'face_blowing_a_kiss',\n",
       " 'face_savoring_food',\n",
       " 'face_screaming_in_fear',\n",
       " 'face_with_rolling_eyes',\n",
       " 'face_with_steam_from_nose',\n",
       " 'face_with_symbols_on_mouth',\n",
       " 'face_with_tears_of_joy',\n",
       " 'face_with_tongue',\n",
       " 'face_without_mouth',\n",
       " 'facebok',\n",
       " 'fai',\n",
       " 'fair',\n",
       " 'fake',\n",
       " 'fam',\n",
       " 'fan',\n",
       " 'fashion',\n",
       " 'fast',\n",
       " 'fb',\n",
       " 'fback',\n",
       " 'fearful_face',\n",
       " 'fedback',\n",
       " 'female_sign',\n",
       " 'fire',\n",
       " 'fix',\n",
       " 'flash',\n",
       " 'flashsale',\n",
       " 'flushed_face',\n",
       " 'fom',\n",
       " 'fomr',\n",
       " 'for',\n",
       " 'form',\n",
       " 'four_leaf_clover',\n",
       " 'fre',\n",
       " 'freship',\n",
       " 'fresize',\n",
       " 'fresz',\n",
       " 'from',\n",
       " 'frowning_face',\n",
       " 'frowning_face_with_open_mouth',\n",
       " 'fs',\n",
       " 'fu',\n",
       " 'ful',\n",
       " 'fải',\n",
       " 'ga',\n",
       " 'game',\n",
       " 'gang',\n",
       " 'gap',\n",
       " 'gel',\n",
       " 'gem_stone',\n",
       " 'gen',\n",
       " 'gh',\n",
       " 'ghe',\n",
       " 'ghi',\n",
       " 'ghiền',\n",
       " 'ghn',\n",
       " 'ghtk',\n",
       " ...]"
      ]
     },
     "execution_count": 68,
     "metadata": {},
     "output_type": "execute_result"
    }
   ],
   "source": [
    "cvec.get_feature_names()"
   ]
  },
  {
   "cell_type": "code",
   "execution_count": 9,
   "id": "c7dd119d",
   "metadata": {
    "scrolled": true
   },
   "outputs": [
    {
     "data": {
      "text/html": [
       "<div>\n",
       "<style scoped>\n",
       "    .dataframe tbody tr th:only-of-type {\n",
       "        vertical-align: middle;\n",
       "    }\n",
       "\n",
       "    .dataframe tbody tr th {\n",
       "        vertical-align: top;\n",
       "    }\n",
       "\n",
       "    .dataframe thead th {\n",
       "        text-align: right;\n",
       "    }\n",
       "</style>\n",
       "<table border=\"1\" class=\"dataframe\">\n",
       "  <thead>\n",
       "    <tr style=\"text-align: right;\">\n",
       "      <th></th>\n",
       "      <th>negative</th>\n",
       "      <th>slight_negative</th>\n",
       "      <th>neutral</th>\n",
       "      <th>slight_positive</th>\n",
       "      <th>positive</th>\n",
       "      <th>total</th>\n",
       "    </tr>\n",
       "  </thead>\n",
       "  <tbody>\n",
       "    <tr>\n",
       "      <th>phẩm</th>\n",
       "      <td>43</td>\n",
       "      <td>86</td>\n",
       "      <td>2808</td>\n",
       "      <td>72260</td>\n",
       "      <td>29167</td>\n",
       "      <td>104364</td>\n",
       "    </tr>\n",
       "    <tr>\n",
       "      <th>sản</th>\n",
       "      <td>42</td>\n",
       "      <td>87</td>\n",
       "      <td>2810</td>\n",
       "      <td>72249</td>\n",
       "      <td>29167</td>\n",
       "      <td>104355</td>\n",
       "    </tr>\n",
       "    <tr>\n",
       "      <th>rất</th>\n",
       "      <td>59</td>\n",
       "      <td>64</td>\n",
       "      <td>2360</td>\n",
       "      <td>63200</td>\n",
       "      <td>28620</td>\n",
       "      <td>94303</td>\n",
       "    </tr>\n",
       "    <tr>\n",
       "      <th>chất</th>\n",
       "      <td>40</td>\n",
       "      <td>83</td>\n",
       "      <td>2296</td>\n",
       "      <td>52800</td>\n",
       "      <td>20636</td>\n",
       "      <td>75855</td>\n",
       "    </tr>\n",
       "    <tr>\n",
       "      <th>lượng</th>\n",
       "      <td>38</td>\n",
       "      <td>66</td>\n",
       "      <td>2086</td>\n",
       "      <td>49631</td>\n",
       "      <td>19695</td>\n",
       "      <td>71516</td>\n",
       "    </tr>\n",
       "    <tr>\n",
       "      <th>tuyệt</th>\n",
       "      <td>0</td>\n",
       "      <td>9</td>\n",
       "      <td>1212</td>\n",
       "      <td>44078</td>\n",
       "      <td>19237</td>\n",
       "      <td>64536</td>\n",
       "    </tr>\n",
       "    <tr>\n",
       "      <th>vời</th>\n",
       "      <td>0</td>\n",
       "      <td>9</td>\n",
       "      <td>1209</td>\n",
       "      <td>43734</td>\n",
       "      <td>19104</td>\n",
       "      <td>64056</td>\n",
       "    </tr>\n",
       "    <tr>\n",
       "      <th>đẹp</th>\n",
       "      <td>2</td>\n",
       "      <td>24</td>\n",
       "      <td>868</td>\n",
       "      <td>29710</td>\n",
       "      <td>12981</td>\n",
       "      <td>43585</td>\n",
       "    </tr>\n",
       "    <tr>\n",
       "      <th>gói</th>\n",
       "      <td>5</td>\n",
       "      <td>16</td>\n",
       "      <td>770</td>\n",
       "      <td>23829</td>\n",
       "      <td>9898</td>\n",
       "      <td>34518</td>\n",
       "    </tr>\n",
       "    <tr>\n",
       "      <th>và</th>\n",
       "      <td>4</td>\n",
       "      <td>18</td>\n",
       "      <td>746</td>\n",
       "      <td>23357</td>\n",
       "      <td>10134</td>\n",
       "      <td>34259</td>\n",
       "    </tr>\n",
       "  </tbody>\n",
       "</table>\n",
       "</div>"
      ],
      "text/plain": [
       "       negative  slight_negative  neutral  slight_positive  positive   total\n",
       "phẩm         43               86     2808            72260     29167  104364\n",
       "sản          42               87     2810            72249     29167  104355\n",
       "rất          59               64     2360            63200     28620   94303\n",
       "chất         40               83     2296            52800     20636   75855\n",
       "lượng        38               66     2086            49631     19695   71516\n",
       "tuyệt         0                9     1212            44078     19237   64536\n",
       "vời           0                9     1209            43734     19104   64056\n",
       "đẹp           2               24      868            29710     12981   43585\n",
       "gói           5               16      770            23829      9898   34518\n",
       "và            4               18      746            23357     10134   34259"
      ]
     },
     "execution_count": 9,
     "metadata": {},
     "output_type": "execute_result"
    }
   ],
   "source": [
    "term_freq_df.columns = ['negative', 'slight_negative', 'neutral', 'slight_positive', 'positive']\n",
    "term_freq_df['total'] = term_freq_df['negative'] + term_freq_df['slight_negative'] + term_freq_df['neutral'] + term_freq_df['slight_positive'] + term_freq_df['positive']\n",
    "\n",
    "term_freq_df.sort_values(by='total', ascending=False).iloc[:10]"
   ]
  },
  {
   "cell_type": "code",
   "execution_count": 4,
   "id": "a8a1548b",
   "metadata": {},
   "outputs": [],
   "source": [
    "file_path = 'tiki_sentiment/preprocessed_data.csv'\n",
    "df = pd.read_csv(file_path)\n",
    "df.head(3)\n",
    "df.drop(['Unnamed: 0'], axis=1, inplace=True)"
   ]
  },
  {
   "cell_type": "code",
   "execution_count": 12,
   "id": "15addf03",
   "metadata": {},
   "outputs": [
    {
     "data": {
      "text/plain": [
       "Text(0.5, 1.0, 'Top 10 tokens in negative tweets')"
      ]
     },
     "execution_count": 12,
     "metadata": {},
     "output_type": "execute_result"
    },
    {
     "data": {
      "image/png": "[encoded data removed]",
      "text/plain": [
       "<Figure size 1440x720 with 1 Axes>"
      ]
     },
     "metadata": {
      "needs_background": "light"
     },
     "output_type": "display_data"
    }
   ],
   "source": [
    "y_pos = np.arange(10)\n",
    "plt.figure(figsize=(20,10))\n",
    "plt.bar(y_pos, term_freq_df.sort_values(by='negative', ascending=False)['negative'][:10], align='center', alpha=0.5)\n",
    "plt.xticks(y_pos, term_freq_df.sort_values(by='negative', ascending=False)['negative'][:10].index,rotation='vertical')\n",
    "plt.ylabel('Frequency')\n",
    "plt.xlabel('Top 10 negative tokens')\n",
    "plt.title('Top 10 tokens in negative tweets')"
   ]
  },
  {
   "cell_type": "code",
   "execution_count": 13,
   "id": "5aa0214f",
   "metadata": {},
   "outputs": [
    {
     "data": {
      "text/plain": [
       "Text(0.5, 1.0, 'Top 100 tokens in slight negative tweets')"
      ]
     },
     "execution_count": 13,
     "metadata": {},
     "output_type": "execute_result"
    },
    {
     "data": {
      "image/png": "[encoded data removed]",
      "text/plain": [
       "<Figure size 1440x720 with 1 Axes>"
      ]
     },
     "metadata": {
      "needs_background": "light"
     },
     "output_type": "display_data"
    }
   ],
   "source": [
    "y_pos = np.arange(10)\n",
    "plt.figure(figsize=(20,10))\n",
    "plt.bar(y_pos, term_freq_df.sort_values(by='slight_negative', ascending=False)['slight_negative'][:10], align='center', alpha=0.5)\n",
    "plt.xticks(y_pos, term_freq_df.sort_values(by='slight_negative', ascending=False)['slight_negative'][:10].index,rotation='vertical')\n",
    "plt.ylabel('Frequency')\n",
    "plt.xlabel('Top 100 slight negative tokens')\n",
    "plt.title('Top 100 tokens in slight negative tweets')"
   ]
  },
  {
   "cell_type": "code",
   "execution_count": 14,
   "id": "d5015df0",
   "metadata": {},
   "outputs": [
    {
     "data": {
      "text/plain": [
       "Text(0.5, 1.0, 'Top 100 tokens in neutral tweets')"
      ]
     },
     "execution_count": 14,
     "metadata": {},
     "output_type": "execute_result"
    },
    {
     "data": {
      "image/png": "[encoded data removed]",
      "text/plain": [
       "<Figure size 1440x720 with 1 Axes>"
      ]
     },
     "metadata": {
      "needs_background": "light"
     },
     "output_type": "display_data"
    }
   ],
   "source": [
    "y_pos = np.arange(10)\n",
    "plt.figure(figsize=(20,10))\n",
    "plt.bar(y_pos, term_freq_df.sort_values(by='neutral', ascending=False)['neutral'][:10], align='center', alpha=0.5)\n",
    "plt.xticks(y_pos, term_freq_df.sort_values(by='neutral', ascending=False)['neutral'][:10].index,rotation='vertical')\n",
    "plt.ylabel('Frequency')\n",
    "plt.xlabel('Top 100 neutral tokens')\n",
    "plt.title('Top 100 tokens in neutral tweets')"
   ]
  },
  {
   "cell_type": "code",
   "execution_count": 15,
   "id": "f5ae997b",
   "metadata": {},
   "outputs": [
    {
     "data": {
      "text/plain": [
       "Text(0.5, 1.0, 'Top 100 tokens in slight_positive tweets')"
      ]
     },
     "execution_count": 15,
     "metadata": {},
     "output_type": "execute_result"
    },
    {
     "data": {
      "image/png": "[encoded data removed]",
      "text/plain": [
       "<Figure size 1440x720 with 1 Axes>"
      ]
     },
     "metadata": {
      "needs_background": "light"
     },
     "output_type": "display_data"
    }
   ],
   "source": [
    "y_pos = np.arange(10)\n",
    "plt.figure(figsize=(20,10))\n",
    "plt.bar(y_pos, term_freq_df.sort_values(by='slight_positive', ascending=False)['slight_positive'][:10], align='center', alpha=0.5)\n",
    "plt.xticks(y_pos, term_freq_df.sort_values(by='slight_positive', ascending=False)['slight_positive'][:10].index,rotation='vertical')\n",
    "plt.ylabel('Frequency')\n",
    "plt.xlabel('Top 100 slight_positive tokens')\n",
    "plt.title('Top 100 tokens in slight_positive tweets')"
   ]
  },
  {
   "cell_type": "code",
   "execution_count": 16,
   "id": "158ad98b",
   "metadata": {},
   "outputs": [
    {
     "data": {
      "text/plain": [
       "Text(0.5, 1.0, 'Top 100 tokens in positive tweets')"
      ]
     },
     "execution_count": 16,
     "metadata": {},
     "output_type": "execute_result"
    },
    {
     "data": {
      "image/png": "[encoded data removed]",
      "text/plain": [
       "<Figure size 1440x720 with 1 Axes>"
      ]
     },
     "metadata": {
      "needs_background": "light"
     },
     "output_type": "display_data"
    }
   ],
   "source": [
    "y_pos = np.arange(10)\n",
    "plt.figure(figsize=(20,10))\n",
    "plt.bar(y_pos, term_freq_df.sort_values(by='positive', ascending=False)['positive'][:10], align='center', alpha=0.5)\n",
    "plt.xticks(y_pos, term_freq_df.sort_values(by='positive', ascending=False)['positive'][:10].index,rotation='vertical')\n",
    "plt.ylabel('Frequency')\n",
    "plt.xlabel('Top 100 positive tokens')\n",
    "plt.title('Top 100 tokens in positive tweets')"
   ]
  },
  {
   "cell_type": "code",
   "execution_count": 85,
   "id": "6b07055b",
   "metadata": {},
   "outputs": [
    {
     "data": {
      "text/plain": [
       "Text(0.5, 1.0, 'Negative Frequency vs Positive Frequency')"
      ]
     },
     "execution_count": 85,
     "metadata": {},
     "output_type": "execute_result"
    },
    {
     "data": {
      "image/png": "[encoded data removed]",
      "text/plain": [
       "<Figure size 576x432 with 1 Axes>"
      ]
     },
     "metadata": {
      "needs_background": "light"
     },
     "output_type": "display_data"
    }
   ],
   "source": [
    "import seaborn as sns\n",
    "plt.figure(figsize=(8,6))\n",
    "ax = sns.regplot(x=\"negative\", y=\"positive\",fit_reg=False, scatter_kws={'alpha':0.5},data=term_freq_df)\n",
    "plt.ylabel('Positive Frequency')\n",
    "plt.xlabel('Negative Frequency')\n",
    "plt.title('Negative Frequency vs Positive Frequency')"
   ]
  },
  {
   "cell_type": "markdown",
   "id": "24b70561",
   "metadata": {},
   "source": [
    "# Model"
   ]
  },
  {
   "cell_type": "code",
   "execution_count": 10,
   "id": "ad242b5f",
   "metadata": {},
   "outputs": [
    {
     "data": {
      "text/html": [
       "<div>\n",
       "<style scoped>\n",
       "    .dataframe tbody tr th:only-of-type {\n",
       "        vertical-align: middle;\n",
       "    }\n",
       "\n",
       "    .dataframe tbody tr th {\n",
       "        vertical-align: top;\n",
       "    }\n",
       "\n",
       "    .dataframe thead th {\n",
       "        text-align: right;\n",
       "    }\n",
       "</style>\n",
       "<table border=\"1\" class=\"dataframe\">\n",
       "  <thead>\n",
       "    <tr style=\"text-align: right;\">\n",
       "      <th></th>\n",
       "      <th>ttn_gia</th>\n",
       "      <th>ttn_bl_diem</th>\n",
       "      <th>ttn_bl_noi_dung</th>\n",
       "      <th>ttn_thuong_hieu</th>\n",
       "    </tr>\n",
       "  </thead>\n",
       "  <tbody>\n",
       "    <tr>\n",
       "      <th>0</th>\n",
       "      <td>45.000</td>\n",
       "      <td>5</td>\n",
       "      <td>chất lượng sản phẩm tuyệt vời</td>\n",
       "      <td>No Brand</td>\n",
       "    </tr>\n",
       "    <tr>\n",
       "      <th>1</th>\n",
       "      <td>255.000</td>\n",
       "      <td>4</td>\n",
       "      <td>chất lượng sản phẩm tuyệt vời, chất lượng sản ...</td>\n",
       "      <td>No Brand</td>\n",
       "    </tr>\n",
       "    <tr>\n",
       "      <th>2</th>\n",
       "      <td>105.000</td>\n",
       "      <td>5</td>\n",
       "      <td>chất lượng sản phẩm tuyệt vời đóng gói sản phẩ...</td>\n",
       "      <td>No Brand</td>\n",
       "    </tr>\n",
       "  </tbody>\n",
       "</table>\n",
       "</div>"
      ],
      "text/plain": [
       "   ttn_gia  ttn_bl_diem                                    ttn_bl_noi_dung  \\\n",
       "0   45.000            5                      chất lượng sản phẩm tuyệt vời   \n",
       "1  255.000            4  chất lượng sản phẩm tuyệt vời, chất lượng sản ...   \n",
       "2  105.000            5  chất lượng sản phẩm tuyệt vời đóng gói sản phẩ...   \n",
       "\n",
       "  ttn_thuong_hieu  \n",
       "0        No Brand  \n",
       "1        No Brand  \n",
       "2        No Brand  "
      ]
     },
     "execution_count": 10,
     "metadata": {},
     "output_type": "execute_result"
    }
   ],
   "source": [
    "df = pd.read_csv('tiki_sentiment/preprocessed_data.csv')\n",
    "df.drop(['Unnamed: 0'], axis=1, inplace = True)\n",
    "df.head(3)"
   ]
  },
  {
   "cell_type": "markdown",
   "id": "2ffcf35f",
   "metadata": {},
   "source": [
    "## Baseline"
   ]
  },
  {
   "cell_type": "code",
   "execution_count": 107,
   "id": "9b15af4a",
   "metadata": {
    "scrolled": true
   },
   "outputs": [
    {
     "name": "stdout",
     "output_type": "stream",
     "text": [
      "Train set has total 9864 entries with \n",
      " 0.85% negative, 0.69% slight negative, 5.38% neutral, 45.19% slight positive, 47.88% positive\n",
      "Validation set has total 101 entries with \n",
      " 2.97% negative, 0.00% slight negative, 2.97% neutral, 41.58% slight positive, 52.48% positive\n",
      "Test set has total 101 entries with \n",
      " 1.98% negative, 0.00% slight negative, 5.94% neutral, 45.54% slight positive, 46.53% positive\n"
     ]
    }
   ],
   "source": [
    "x = df.ttn_bl_noi_dung\n",
    "y = df.ttn_bl_diem\n",
    "from sklearn.model_selection import train_test_split\n",
    "SEED = 2000\n",
    "x_train, x_validation_and_test, y_train, y_validation_and_test = train_test_split(x, y, test_size=.02, random_state=SEED)\n",
    "x_validation, x_test, y_validation, y_test = train_test_split(x_validation_and_test, y_validation_and_test, test_size=.5, random_state=SEED)\n",
    "print(\"Train set has total {0} entries with \\n {1:.2f}% negative, {2:.2f}% slight negative, {3:.2f}% neutral, {4:.2f}% slight positive, {5:.2f}% positive\".format(\n",
    "    len(x_train), \n",
    "    (len(x_train[y_train == 1]) / (len(x_train)*1.))*100, \n",
    "    (len(x_train[y_train == 2]) / (len(x_train)*1.))*100, \n",
    "    (len(x_train[y_train == 3]) / (len(x_train)*1.))*100, \n",
    "    (len(x_train[y_train == 4]) / (len(x_train)*1.))*100, \n",
    "    (len(x_train[y_train == 5]) / (len(x_train)*1.))*100))\n",
    "print(\"Validation set has total {0} entries with \\n {1:.2f}% negative, {2:.2f}% slight negative, {3:.2f}% neutral, {4:.2f}% slight positive, {5:.2f}% positive\".format(\n",
    "    len(x_validation), \n",
    "    (len(x_validation[y_validation == 1]) / (len(x_validation)*1.))*100, \n",
    "    (len(x_validation[y_validation == 2]) / (len(x_validation)*1.))*100, \n",
    "    (len(x_validation[y_validation == 3]) / (len(x_validation)*1.))*100, \n",
    "    (len(x_validation[y_validation == 4]) / (len(x_validation)*1.))*100, \n",
    "    (len(x_validation[y_validation == 5]) / (len(x_validation)*1.))*100))\n",
    "print(\"Test set has total {0} entries with \\n {1:.2f}% negative, {2:.2f}% slight negative, {3:.2f}% neutral, {4:.2f}% slight positive, {5:.2f}% positive\".format(\n",
    "    len(x_test),\n",
    "    (len(x_test[y_test == 1]) / (len(x_test)*1.))*100,\n",
    "    (len(x_test[y_test == 2]) / (len(x_test)*1.))*100,\n",
    "    (len(x_test[y_test == 3]) / (len(x_test)*1.))*100,\n",
    "    (len(x_test[y_test == 4]) / (len(x_test)*1.))*100,\n",
    "    (len(x_test[y_test == 5]) / (len(x_test)*1.))*100))"
   ]
  },
  {
   "cell_type": "markdown",
   "id": "dbecd2a5",
   "metadata": {},
   "source": [
    "If the model predict all are positive, it will get 52.48% accuracy on validation set \n",
    "\n",
    "\n",
    "Note that in Base Model there is no slight_negative in both validation and test\n",
    "\n",
    "=> We are going to apply oversampling to minority classes (negative: 1, slight_negative: 2) and use kfold cross validation"
   ]
  },
  {
   "cell_type": "markdown",
   "id": "d795d9e3",
   "metadata": {},
   "source": [
    "## Count Vectorizer"
   ]
  },
  {
   "cell_type": "code",
   "execution_count": null,
   "id": "bb718e3e",
   "metadata": {},
   "outputs": [],
   "source": [
    "from sklearn.linear_model import LogisticRegression\n",
    "from sklearn.feature_extraction.text import TfidfVectorizer\n",
    "from sklearn.feature_extraction.text import CountVectorizer\n",
    "from time import time\n",
    "\n",
    "from sklearn.model_selection import StratifiedKFold\n",
    "from sklearn.metrics import precision_score, recall_score, f1_score\n",
    "\n",
    "cvec = CountVectorizer()\n",
    "tvec = TfidfVectorizer(stop_words=None, max_features=100000, ngram_range=(1, 3))\n",
    "lr = LogisticRegression()"
   ]
  },
  {
   "cell_type": "code",
   "execution_count": 96,
   "id": "d56dead4",
   "metadata": {},
   "outputs": [],
   "source": [
    "def lr_cv(splits, X, Y, pipeline, average_method):\n",
    "    kfold = StratifiedKFold(n_splits=splits, shuffle=True, random_state=777)\n",
    "    accuracy = []\n",
    "    precision = []\n",
    "    recall = []\n",
    "    f1 = []\n",
    "    for train, test in kfold.split(X, Y):\n",
    "        lr_fit = pipeline.fit(X[train], Y[train])\n",
    "        prediction = lr_fit.predict(X[test])\n",
    "        scores = lr_fit.score(X[test],Y[test])\n",
    "            \n",
    "        accuracy.append(scores * 100)\n",
    "        precision.append(precision_score(Y[test], prediction, average=average_method)*100)\n",
    "        print('            1            2            3           4           5')\n",
    "        print('precision:',precision_score(Y[test], prediction, average=None))\n",
    "        recall.append(recall_score(Y[test], prediction, average=average_method)*100)\n",
    "        print('recall:   ',recall_score(Y[test], prediction, average=None))\n",
    "        f1.append(f1_score(Y[test], prediction, average=average_method)*100)\n",
    "        print('f1 score: ',f1_score(Y[test], prediction, average=None))\n",
    "        print('-'*50)\n",
    "\n",
    "    print(\"accuracy: %.2f%% (+/- %.2f%%)\" % (np.mean(accuracy), np.std(accuracy)))\n",
    "    print(\"precision: %.2f%% (+/- %.2f%%)\" % (np.mean(precision), np.std(precision)))\n",
    "    print(\"recall: %.2f%% (+/- %.2f%%)\" % (np.mean(recall), np.std(recall)))\n",
    "    print(\"f1 score: %.2f%% (+/- %.2f%%)\" % (np.mean(f1), np.std(f1)))\n",
    "    return np.mean(accuracy)"
   ]
  },
  {
   "cell_type": "code",
   "execution_count": null,
   "id": "e55747b4",
   "metadata": {
    "scrolled": true
   },
   "outputs": [],
   "source": [
    "from sklearn.pipeline import Pipeline\n",
    "from imblearn.pipeline import make_pipeline\n",
    "from imblearn.over_sampling import ADASYN, SMOTE, RandomOverSampler\n",
    "\n",
    "original_pipeline = Pipeline([\n",
    "    ('vectorizer', cvec),\n",
    "    ('classifier', lr)\n",
    "])\n",
    "\n",
    "ROS_pipeline = make_pipeline(cvec, RandomOverSampler(random_state=777),lr)\n",
    "SMOTE_pipeline = make_pipeline(cvec, SMOTE(random_state=777),lr)\n",
    "lr_cv(5, df.ttn_bl_noi_dung, df.ttn_bl_diem, original_pipeline, 'macro')\n"
   ]
  },
  {
   "cell_type": "code",
   "execution_count": null,
   "id": "af9c0639",
   "metadata": {},
   "outputs": [],
   "source": [
    "lr_cv(5, df.ttn_bl_noi_dung, df.ttn_bl_diem, ROS_pipeline, 'macro')"
   ]
  },
  {
   "cell_type": "code",
   "execution_count": null,
   "id": "8615ea6c",
   "metadata": {},
   "outputs": [],
   "source": [
    "lr_cv(5, df.ttn_bl_noi_dung, df.ttn_bl_diem, SMOTE_pipeline, 'macro')\n"
   ]
  },
  {
   "attachments": {
    "image-10.png": {
     "image/png": "[encoded data removed]"
    },
    "image-8.png": {
     "image/png": "[encoded data removed]"
    },
    "image-9.png": {
     "image/png": "[encoded data removed]"
    }
   },
   "cell_type": "markdown",
   "id": "cde9f689",
   "metadata": {},
   "source": [
    "## Oversampling approach\n",
    "Imbalance data results: (note that there is no sample for slight_negative class)\n",
    "![image-8.png](attachment:image-8.png)\n",
    "ROS pipeline results: (repeats row of minority class)\n",
    "![image-10.png](attachment:image-10.png)\n",
    "SMOTE pipeline results: (choose random values in each column of 2 rows)\n",
    "![image-9.png](attachment:image-9.png)"
   ]
  },
  {
   "cell_type": "code",
   "execution_count": 23,
   "id": "c914ab0b",
   "metadata": {},
   "outputs": [],
   "source": [
    "from imblearn.under_sampling import NearMiss, RandomUnderSampler\n",
    "RUS_pipeline = make_pipeline(cvec, RandomUnderSampler(random_state=777),lr)\n",
    "NM1_pipeline = make_pipeline(cvec, NearMiss(sampling_strategy='not minority', version = 1),lr)\n",
    "NM2_pipeline = make_pipeline(cvec, NearMiss(sampling_strategy='not minority', version = 2),lr)\n",
    "NM3_pipeline = make_pipeline(cvec, NearMiss(sampling_strategy='not minority', version = 3, n_neighbors_ver3=4),lr)"
   ]
  },
  {
   "cell_type": "code",
   "execution_count": null,
   "id": "feb5aa41",
   "metadata": {
    "scrolled": true
   },
   "outputs": [],
   "source": [
    "rus = RandomUnderSampler(random_state=777)\n",
    "lr_cv(5, df.ttn_bl_noi_dung, df.ttn_bl_diem, RUS_pipeline, 'macro')"
   ]
  },
  {
   "cell_type": "code",
   "execution_count": null,
   "id": "1f6ff17c",
   "metadata": {
    "scrolled": true
   },
   "outputs": [],
   "source": [
    "lr_cv(5, df.ttn_bl_noi_dung, df.ttn_bl_diem, NM1_pipeline, 'macro')"
   ]
  },
  {
   "cell_type": "code",
   "execution_count": null,
   "id": "0125400a",
   "metadata": {
    "scrolled": true
   },
   "outputs": [],
   "source": [
    "lr_cv(5, df.ttn_bl_noi_dung, df.ttn_bl_diem, NM2_pipeline, 'macro')"
   ]
  },
  {
   "cell_type": "code",
   "execution_count": null,
   "id": "090b33de",
   "metadata": {
    "scrolled": true
   },
   "outputs": [],
   "source": [
    "lr_cv(5, df.ttn_bl_noi_dung, df.ttn_bl_diem, NM3_pipeline, 'macro')"
   ]
  },
  {
   "attachments": {
    "image-10.png": {
     "image/png": "[encoded data removed]"
    },
    "image-11.png": {
     "image/png": "[encoded data removed]"
    },
    "image-12.png": {
     "image/png": "[encoded data removed]"
    },
    "image-9.png": {
     "image/png": "[encoded data removed]"
    }
   },
   "cell_type": "markdown",
   "id": "22e17ad1",
   "metadata": {},
   "source": [
    "### Undersampling approach\n",
    "While this does improve results of minority classes, f1 accuracy of majority classes also drop dramatically\n",
    "\n",
    "In NM2, the model rarely predicts positive class (recall: 0.13)\n",
    "\n",
    "RUS result (randomly removing data from the majority class)\n",
    "![image-12.png](attachment:image-12.png)\n",
    "NM1 result\n",
    "![image-11.png](attachment:image-11.png)\n",
    "NM2 result\n",
    "![image-10.png](attachment:image-10.png)\n",
    "NM3 result\n",
    "![image-9.png](attachment:image-9.png)"
   ]
  },
  {
   "cell_type": "markdown",
   "id": "9f697348",
   "metadata": {},
   "source": [
    "Based on the result, we are going to use ROS pipeline for later use\n",
    "\n",
    "Result of Count Vectorizer is 77.63%"
   ]
  },
  {
   "cell_type": "markdown",
   "id": "ae7ccbef",
   "metadata": {},
   "source": [
    "## Count Vectorizer + N-gams"
   ]
  },
  {
   "cell_type": "code",
   "execution_count": null,
   "id": "e3c9529d",
   "metadata": {},
   "outputs": [],
   "source": [
    "cvec.set_params(ngram_range=(1, 2))\n",
    "ROS_pipeline = make_pipeline(cvec, RandomOverSampler(random_state=777),lr)\n",
    "lr_cv(5, df.ttn_bl_noi_dung, df.ttn_bl_diem, ROS_pipeline, 'macro')\n"
   ]
  },
  {
   "cell_type": "code",
   "execution_count": null,
   "id": "0911feab",
   "metadata": {
    "scrolled": true
   },
   "outputs": [],
   "source": [
    "cvec.set_params(ngram_range=(1, 3))\n",
    "ROS_pipeline = make_pipeline(cvec, RandomOverSampler(random_state=777),lr)\n",
    "lr_cv(5, df.ttn_bl_noi_dung, df.ttn_bl_diem, ROS_pipeline, 'macro')"
   ]
  },
  {
   "attachments": {
    "image-2.png": {
     "image/png": "[encoded data removed]"
    },
    "image.png": {
     "image/png": "[encoded data removed]"
    }
   },
   "cell_type": "markdown",
   "id": "27bc5ab5",
   "metadata": {},
   "source": [
    "Result:\n",
    "2-grams:\n",
    "![image.png](attachment:image.png)\n",
    "3-grams:\n",
    "![image-2.png](attachment:image-2.png)"
   ]
  },
  {
   "cell_type": "markdown",
   "id": "ab5b7fc5",
   "metadata": {},
   "source": [
    "3-grams works best"
   ]
  },
  {
   "cell_type": "markdown",
   "id": "f4af85bf",
   "metadata": {},
   "source": [
    "##  TF-idf"
   ]
  },
  {
   "cell_type": "code",
   "execution_count": null,
   "id": "4a520793",
   "metadata": {},
   "outputs": [],
   "source": [
    "n_features = np.arange(10000,100001,10000)\n",
    "result = []\n",
    "for n in n_features: \n",
    "    tvec.set_params(max_features=n, ngram_range=(1, 3))\n",
    "    ROS_pipeline = make_pipeline(tvec, RandomOverSampler(random_state=777),lr)\n",
    "    accuracy = lr_cv(5, df.ttn_bl_noi_dung, df.ttn_bl_diem, ROS_pipeline, 'macro')\n",
    "    result.append(accuracy)"
   ]
  },
  {
   "cell_type": "code",
   "execution_count": 43,
   "id": "0638ad98",
   "metadata": {},
   "outputs": [
    {
     "data": {
      "text/plain": [
       "<matplotlib.legend.Legend at 0x2647ba5d340>"
      ]
     },
     "execution_count": 43,
     "metadata": {},
     "output_type": "execute_result"
    },
    {
     "data": {
      "image/png": "[encoded data removed]",
      "text/plain": [
       "<Figure size 576x432 with 1 Axes>"
      ]
     },
     "metadata": {
      "needs_background": "light"
     },
     "output_type": "display_data"
    }
   ],
   "source": [
    "n_features = np.arange(10000,100001,10000)\n",
    "nfeatures_plot = pd.DataFrame(n_features,columns=['nfeatures'])\n",
    "nfeatures_plot['validation_accuracy'] = result\n",
    "plt.figure(figsize=(8,6))\n",
    "plt.plot(nfeatures_plot.nfeatures, nfeatures_plot.validation_accuracy, label='trigram tfidf vectorizer',color='royalblue')\n",
    "plt.xlabel(\"Number of features\")\n",
    "plt.ylabel(\"Validation set accuracy\")\n",
    "plt.legend()"
   ]
  },
  {
   "cell_type": "markdown",
   "id": "20670040",
   "metadata": {},
   "source": [
    "So we are going to pick the number of features as: 100.000\n",
    "\n",
    "Best model currently"
   ]
  },
  {
   "attachments": {
    "image.png": {
     "image/png": "[encoded data removed]"
    }
   },
   "cell_type": "markdown",
   "id": "48d34738",
   "metadata": {},
   "source": [
    "![image.png](attachment:image.png)"
   ]
  },
  {
   "cell_type": "markdown",
   "id": "ab8a58c9",
   "metadata": {},
   "source": [
    "##  TF-idf + Chi2"
   ]
  },
  {
   "cell_type": "markdown",
   "id": "98c3c2e3",
   "metadata": {},
   "source": [
    "Let's try to use Chi2 to reduce the number of features"
   ]
  },
  {
   "cell_type": "code",
   "execution_count": 64,
   "id": "f77dfe1e",
   "metadata": {},
   "outputs": [
    {
     "data": {
      "text/plain": [
       "<matplotlib.legend.Legend at 0x2641ee706a0>"
      ]
     },
     "execution_count": 64,
     "metadata": {},
     "output_type": "execute_result"
    },
    {
     "data": {
      "image/png": "[encoded data removed]",
      "text/plain": [
       "<Figure size 1440x432 with 1 Axes>"
      ]
     },
     "metadata": {
      "needs_background": "light"
     },
     "output_type": "display_data"
    }
   ],
   "source": [
    "from sklearn.feature_selection import chi2\n",
    "from sklearn.feature_extraction.text import TfidfVectorizer\n",
    "\n",
    "x = df.ttn_bl_noi_dung\n",
    "y = df.ttn_bl_diem\n",
    "tvec = TfidfVectorizer(max_features=100000,ngram_range=(1, 3))\n",
    "x_tfidf = tvec.fit_transform(x)\n",
    "chi2score = chi2(x_tfidf, y)[0]\n",
    "\n",
    "chi2_df = pd.DataFrame({\n",
    "    'word': tvec.get_feature_names(),\n",
    "    'score': chi2score\n",
    "})\n",
    "chi2_df = chi2_df.sort_values(by='score', ascending=False)\n",
    "plt.figure(figsize=(20,6))\n",
    "plt.plot(chi2_df.word[:10], chi2_df.score[:10], label='Chi2 score',color='royalblue')\n",
    "plt.xlabel(\"Word\")\n",
    "plt.ylabel(\"Chi2 score\")\n",
    "plt.legend()\n"
   ]
  },
  {
   "cell_type": "code",
   "execution_count": null,
   "id": "fdff6347",
   "metadata": {
    "scrolled": false
   },
   "outputs": [],
   "source": [
    "from sklearn.feature_selection import SelectKBest, chi2\n",
    "from sklearn.feature_extraction.text import TfidfVectorizer\n",
    "\n",
    "tvec = TfidfVectorizer(max_features=100000,ngram_range=(1, 3))\n",
    "chi2_result = []\n",
    "n_features = np.arange(10000,100000,10000)\n",
    "lr = LogisticRegression(max_iter=100)\n",
    "\n",
    "for n in n_features:\n",
    "    chi2_tranformer = SelectKBest(chi2, k=n)\n",
    "    ROS_pipeline = make_pipeline(tvec,chi2_tranformer, RandomOverSampler(random_state=777),lr)\n",
    "    score = lr_cv(5, df.ttn_bl_noi_dung, df.ttn_bl_diem, ROS_pipeline, 'macro')\n",
    "    chi2_result.append(score)\n",
    "    print(\"chi2 feature selection evaluation calculated for {} features\".format(n))\n",
    "    print(score)\n"
   ]
  },
  {
   "cell_type": "code",
   "execution_count": 142,
   "id": "4438e04b",
   "metadata": {},
   "outputs": [
    {
     "data": {
      "text/plain": [
       "<matplotlib.legend.Legend at 0x26403ee5f40>"
      ]
     },
     "execution_count": 142,
     "metadata": {},
     "output_type": "execute_result"
    },
    {
     "data": {
      "image/png": "[encoded data removed]",
      "text/plain": [
       "<Figure size 576x432 with 1 Axes>"
      ]
     },
     "metadata": {
      "needs_background": "light"
     },
     "output_type": "display_data"
    }
   ],
   "source": [
    "chi2_plot = pd.DataFrame(n_features,columns=['nfeatures'])\n",
    "chi2_plot['validation_accuracy'] = chi2_result\n",
    "plt.figure(figsize=(8,6))\n",
    "plt.plot(chi2_plot.nfeatures, chi2_plot.validation_accuracy, label='trigram chi2',color='royalblue')\n",
    "plt.xlabel(\"Number of features\")\n",
    "plt.ylabel(\"Validation set accuracy\")\n",
    "plt.legend()"
   ]
  },
  {
   "cell_type": "markdown",
   "id": "82d69f05",
   "metadata": {},
   "source": [
    "So we'll pick k=20000 for chi square"
   ]
  },
  {
   "cell_type": "code",
   "execution_count": null,
   "id": "b8c5e16c",
   "metadata": {},
   "outputs": [],
   "source": [
    "tvec = TfidfVectorizer(max_features=100000,ngram_range=(1, 3))\n",
    "chi2_tranformer = SelectKBest(chi2, k=20000)\n",
    "lr = LogisticRegression(max_iter=1000)\n",
    "ROS_pipeline = make_pipeline(tvec,chi2_tranformer, RandomOverSampler(random_state=777),lr)\n",
    "lr_cv(5, df.ttn_bl_noi_dung, df.ttn_bl_diem, ROS_pipeline, 'macro')"
   ]
  },
  {
   "attachments": {
    "image-3.png": {
     "image/png": "[encoded data removed]"
    }
   },
   "cell_type": "markdown",
   "id": "17e0dfa9",
   "metadata": {},
   "source": [
    "Tfidf + Chi2 result:\n",
    "![image-3.png](attachment:image-3.png)"
   ]
  },
  {
   "cell_type": "markdown",
   "id": "624f577d",
   "metadata": {},
   "source": [
    "## PhoW2V"
   ]
  },
  {
   "cell_type": "code",
   "execution_count": null,
   "id": "2da40f62",
   "metadata": {},
   "outputs": [],
   "source": [
    "import io\n",
    "\n",
    "def load_vectors(fname):\n",
    "    f = io.open(fname, 'r', encoding='utf-8', newline='\\n', errors='ignore')\n",
    "    n, d = map(int, f.readline().split())\n",
    "    data = {}\n",
    "    for line in f:\n",
    "        tokens = line.rstrip().split(' ')\n",
    "        data[tokens[0]] = map(float, tokens[1:])\n",
    "    return data\n",
    "wordvec_df = load_vectors('tiki_sentiment/word2vec_vi_words_300dims.txt') \n",
    "wordvec_df"
   ]
  },
  {
   "cell_type": "code",
   "execution_count": null,
   "id": "ad27e59a",
   "metadata": {},
   "outputs": [],
   "source": []
  },
  {
   "cell_type": "code",
   "execution_count": null,
   "id": "a2b8d369",
   "metadata": {},
   "outputs": [],
   "source": [
    "def normalize_w2v(tweet, size, vectors, aggregation='mean'):\n",
    "    vec = np.zeros(size).reshape((1, size))\n",
    "    count = 0.\n",
    "    for word in tweet.split():\n",
    "        try:\n",
    "            vec += vectors[word].reshape((1, size))\n",
    "            count += 1.\n",
    "        except KeyError:\n",
    "            continue\n",
    "    if aggregation == 'mean':\n",
    "        if count != 0:\n",
    "            vec /= count\n",
    "        return vec\n",
    "    elif aggregation == 'sum':\n",
    "        return vec"
   ]
  }
 ],
 "metadata": {
  "kernelspec": {
   "display_name": "Python 3 (ipykernel)",
   "language": "python",
   "name": "python3"
  },
  "language_info": {
   "codemirror_mode": {
    "name": "ipython",
    "version": 3
   },
   "file_extension": ".py",
   "mimetype": "text/x-python",
   "name": "python",
   "nbconvert_exporter": "python",
   "pygments_lexer": "ipython3",
   "version": "3.9.6"
  }
 },
 "nbformat": 4,
 "nbformat_minor": 5
}
